{
 "cells": [
  {
   "cell_type": "markdown",
   "id": "349f7b8e",
   "metadata": {},
   "source": [
    "Solutions to Exercises\n",
    "=====================\n",
    "\n",
    "Exercise 1\n",
    "--------------"
   ]
  },
  {
   "cell_type": "markdown",
   "id": "ad894a8e",
   "metadata": {},
   "source": [
    "1. Open the example calibrated data file (r0000101001001001001_01101_0001_WFI01_cal.asdf) and extract the value of the exposure start time."
   ]
  },
  {
   "cell_type": "code",
   "execution_count": 1,
   "id": "c4156792",
   "metadata": {},
   "outputs": [
    {
     "data": {
      "text/plain": [
       "<Time object: scale='utc' format='isot' value=2021-01-01T00:00:00.000>"
      ]
     },
     "execution_count": 1,
     "metadata": {},
     "output_type": "execute_result"
    }
   ],
   "source": [
    "import roman_datamodels as rdm\n",
    "dm = rdm.open('../data/r0000101001001001001_01101_0001_WFI01_cal.asdf')\n",
    "dm.meta.exposure.start_time"
   ]
  },
  {
   "cell_type": "markdown",
   "id": "cd9f1107",
   "metadata": {},
   "source": [
    "2. Change the exposure start time."
   ]
  },
  {
   "cell_type": "code",
   "execution_count": 2,
   "id": "a6cfa332",
   "metadata": {},
   "outputs": [
    {
     "data": {
      "text/plain": [
       "<Time object: scale='utc' format='isot' value=2022-01-01T11:11:11.111>"
      ]
     },
     "execution_count": 2,
     "metadata": {},
     "output_type": "execute_result"
    }
   ],
   "source": [
    "import astropy.time as atime\n",
    "dm.meta.exposure.start_time = atime.Time(\"2022-01-01T11:11:11.111\")\n",
    "dm.meta.exposure.start_time"
   ]
  },
  {
   "cell_type": "markdown",
   "id": "15261386",
   "metadata": {},
   "source": [
    "3. Change the exposure start time to \"hello there\". What happens?"
   ]
  },
  {
   "cell_type": "code",
   "execution_count": 3,
   "id": "f4125cc6",
   "metadata": {},
   "outputs": [
    {
     "ename": "ValidationError",
     "evalue": "While validating start_time the following error occurred:\nmismatched tags, wanted 'tag:stsci.edu:asdf/time/time-1.1.0', got 'tag:yaml.org,2002:str'\n\nFailed validating 'tag' in schema:\n    {'$schema': 'http://stsci.edu/schemas/asdf-schema/0.1.0/asdf-schema',\n     'archive_catalog': {'datatype': 'datetime2',\n                         'destination': ['ScienceCommon.exposure_start_time']},\n     'description': 'This is a python date-time object that records the\\n'\n                    'time at the start of the exposure in UTC.\\n',\n     'sdf': {'source': {'origin': 'TBD'},\n             'special_processing': 'VALUE_REQUIRED'},\n     'tag': 'tag:stsci.edu:asdf/time/time-1.1.0',\n     'title': 'UTC exposure start time'}\n\nOn instance:\n    'hello there'",
     "output_type": "error",
     "traceback": [
      "\u001b[0;31m---------------------------------------------------------------------------\u001b[0m",
      "\u001b[0;31mValidationError\u001b[0m                           Traceback (most recent call last)",
      "\u001b[0;32m<ipython-input-3-4b14e21303f0>\u001b[0m in \u001b[0;36m<module>\u001b[0;34m\u001b[0m\n\u001b[0;32m----> 1\u001b[0;31m \u001b[0mdm\u001b[0m\u001b[0;34m.\u001b[0m\u001b[0mmeta\u001b[0m\u001b[0;34m.\u001b[0m\u001b[0mexposure\u001b[0m\u001b[0;34m.\u001b[0m\u001b[0mstart_time\u001b[0m \u001b[0;34m=\u001b[0m \u001b[0;34m\"hello there\"\u001b[0m\u001b[0;34m\u001b[0m\u001b[0;34m\u001b[0m\u001b[0m\n\u001b[0m",
      "\u001b[0;32m~/miniconda3/envs/dmtag/lib/python3.8/site-packages/roman_datamodels/stnode.py\u001b[0m in \u001b[0;36m__setattr__\u001b[0;34m(self, key, value)\u001b[0m\n\u001b[1;32m    180\u001b[0m                     \u001b[0;32melse\u001b[0m\u001b[0;34m:\u001b[0m\u001b[0;34m\u001b[0m\u001b[0;34m\u001b[0m\u001b[0m\n\u001b[1;32m    181\u001b[0m                         \u001b[0mschema\u001b[0m \u001b[0;34m=\u001b[0m \u001b[0mschema\u001b[0m\u001b[0;34m.\u001b[0m\u001b[0mget\u001b[0m\u001b[0;34m(\u001b[0m\u001b[0mkey\u001b[0m\u001b[0;34m,\u001b[0m \u001b[0;32mNone\u001b[0m\u001b[0;34m)\u001b[0m\u001b[0;34m\u001b[0m\u001b[0;34m\u001b[0m\u001b[0m\n\u001b[0;32m--> 182\u001b[0;31m                     \u001b[0;32mif\u001b[0m \u001b[0mschema\u001b[0m \u001b[0;32mis\u001b[0m \u001b[0;32mNone\u001b[0m \u001b[0;32mor\u001b[0m \u001b[0m_validate\u001b[0m\u001b[0;34m(\u001b[0m\u001b[0mkey\u001b[0m\u001b[0;34m,\u001b[0m \u001b[0mvalue\u001b[0m\u001b[0;34m,\u001b[0m \u001b[0mschema\u001b[0m\u001b[0;34m,\u001b[0m \u001b[0mself\u001b[0m\u001b[0;34m.\u001b[0m\u001b[0mctx\u001b[0m\u001b[0;34m)\u001b[0m\u001b[0;34m:\u001b[0m\u001b[0;34m\u001b[0m\u001b[0;34m\u001b[0m\u001b[0m\n\u001b[0m\u001b[1;32m    183\u001b[0m                         \u001b[0mself\u001b[0m\u001b[0;34m.\u001b[0m\u001b[0m_data\u001b[0m\u001b[0;34m[\u001b[0m\u001b[0mkey\u001b[0m\u001b[0;34m]\u001b[0m \u001b[0;34m=\u001b[0m \u001b[0mvalue\u001b[0m\u001b[0;34m\u001b[0m\u001b[0;34m\u001b[0m\u001b[0m\n\u001b[1;32m    184\u001b[0m                 \u001b[0mself\u001b[0m\u001b[0;34m.\u001b[0m\u001b[0m__dict__\u001b[0m\u001b[0;34m[\u001b[0m\u001b[0;34m'_data'\u001b[0m\u001b[0;34m]\u001b[0m\u001b[0;34m[\u001b[0m\u001b[0mkey\u001b[0m\u001b[0;34m]\u001b[0m \u001b[0;34m=\u001b[0m \u001b[0mvalue\u001b[0m\u001b[0;34m\u001b[0m\u001b[0;34m\u001b[0m\u001b[0m\n",
      "\u001b[0;32m~/miniconda3/envs/dmtag/lib/python3.8/site-packages/roman_datamodels/stnode.py\u001b[0m in \u001b[0;36m_validate\u001b[0;34m(attr, instance, schema, ctx)\u001b[0m\n\u001b[1;32m     94\u001b[0m \u001b[0;32mdef\u001b[0m \u001b[0m_validate\u001b[0m\u001b[0;34m(\u001b[0m\u001b[0mattr\u001b[0m\u001b[0;34m,\u001b[0m \u001b[0minstance\u001b[0m\u001b[0;34m,\u001b[0m \u001b[0mschema\u001b[0m\u001b[0;34m,\u001b[0m \u001b[0mctx\u001b[0m\u001b[0;34m)\u001b[0m\u001b[0;34m:\u001b[0m\u001b[0;34m\u001b[0m\u001b[0;34m\u001b[0m\u001b[0m\n\u001b[1;32m     95\u001b[0m     \u001b[0mtagged_tree\u001b[0m \u001b[0;34m=\u001b[0m \u001b[0myamlutil\u001b[0m\u001b[0;34m.\u001b[0m\u001b[0mcustom_tree_to_tagged_tree\u001b[0m\u001b[0;34m(\u001b[0m\u001b[0minstance\u001b[0m\u001b[0;34m,\u001b[0m \u001b[0mctx\u001b[0m\u001b[0;34m)\u001b[0m\u001b[0;34m\u001b[0m\u001b[0;34m\u001b[0m\u001b[0m\n\u001b[0;32m---> 96\u001b[0;31m     \u001b[0;32mreturn\u001b[0m \u001b[0m_value_change\u001b[0m\u001b[0;34m(\u001b[0m\u001b[0mattr\u001b[0m\u001b[0;34m,\u001b[0m \u001b[0mtagged_tree\u001b[0m\u001b[0;34m,\u001b[0m \u001b[0mschema\u001b[0m\u001b[0;34m,\u001b[0m \u001b[0;32mFalse\u001b[0m\u001b[0;34m,\u001b[0m \u001b[0mstrict_validation\u001b[0m\u001b[0;34m,\u001b[0m \u001b[0mctx\u001b[0m\u001b[0;34m)\u001b[0m\u001b[0;34m\u001b[0m\u001b[0;34m\u001b[0m\u001b[0m\n\u001b[0m\u001b[1;32m     97\u001b[0m \u001b[0;34m\u001b[0m\u001b[0m\n\u001b[1;32m     98\u001b[0m \u001b[0;34m\u001b[0m\u001b[0m\n",
      "\u001b[0;32m~/miniconda3/envs/dmtag/lib/python3.8/site-packages/roman_datamodels/stnode.py\u001b[0m in \u001b[0;36m_value_change\u001b[0;34m(path, value, schema, pass_invalid_values, strict_validation, ctx)\u001b[0m\n\u001b[1;32m     66\u001b[0m             \u001b[0mupdate\u001b[0m \u001b[0;34m=\u001b[0m \u001b[0;32mTrue\u001b[0m\u001b[0;34m\u001b[0m\u001b[0;34m\u001b[0m\u001b[0m\n\u001b[1;32m     67\u001b[0m         \u001b[0;32mif\u001b[0m \u001b[0mstrict_validation\u001b[0m\u001b[0;34m:\u001b[0m\u001b[0;34m\u001b[0m\u001b[0;34m\u001b[0m\u001b[0m\n\u001b[0;32m---> 68\u001b[0;31m             \u001b[0;32mraise\u001b[0m \u001b[0mjsonschema\u001b[0m\u001b[0;34m.\u001b[0m\u001b[0mValidationError\u001b[0m\u001b[0;34m(\u001b[0m\u001b[0merrmsg\u001b[0m\u001b[0;34m)\u001b[0m\u001b[0;34m\u001b[0m\u001b[0;34m\u001b[0m\u001b[0m\n\u001b[0m\u001b[1;32m     69\u001b[0m         \u001b[0;32melse\u001b[0m\u001b[0;34m:\u001b[0m\u001b[0;34m\u001b[0m\u001b[0;34m\u001b[0m\u001b[0m\n\u001b[1;32m     70\u001b[0m             \u001b[0mwarnings\u001b[0m\u001b[0;34m.\u001b[0m\u001b[0mwarn\u001b[0m\u001b[0;34m(\u001b[0m\u001b[0merrmsg\u001b[0m\u001b[0;34m,\u001b[0m \u001b[0mValidationWarning\u001b[0m\u001b[0;34m)\u001b[0m\u001b[0;34m\u001b[0m\u001b[0;34m\u001b[0m\u001b[0m\n",
      "\u001b[0;31mValidationError\u001b[0m: While validating start_time the following error occurred:\nmismatched tags, wanted 'tag:stsci.edu:asdf/time/time-1.1.0', got 'tag:yaml.org,2002:str'\n\nFailed validating 'tag' in schema:\n    {'$schema': 'http://stsci.edu/schemas/asdf-schema/0.1.0/asdf-schema',\n     'archive_catalog': {'datatype': 'datetime2',\n                         'destination': ['ScienceCommon.exposure_start_time']},\n     'description': 'This is a python date-time object that records the\\n'\n                    'time at the start of the exposure in UTC.\\n',\n     'sdf': {'source': {'origin': 'TBD'},\n             'special_processing': 'VALUE_REQUIRED'},\n     'tag': 'tag:stsci.edu:asdf/time/time-1.1.0',\n     'title': 'UTC exposure start time'}\n\nOn instance:\n    'hello there'"
     ]
    }
   ],
   "source": [
    "dm.meta.exposure.start_time = \"hello there\""
   ]
  },
  {
   "cell_type": "markdown",
   "id": "06c44d8b",
   "metadata": {},
   "source": [
    "4. Go to the rad repository, and use the example above and the schema for the flat field to create a reference file for a flat field (yes, all reference files have corresponding data models). Note that there is a fairly straightfoward algorithm that maps the schema name into a class name (underscores are removed and the elements thus separated are capitalized before joining. E.g., cal_step becomes CalStep)."
   ]
  },
  {
   "cell_type": "code",
   "execution_count": 4,
   "id": "0ee0dd03",
   "metadata": {},
   "outputs": [],
   "source": [
    "import asdf\n",
    "import numpy as np\n",
    "import roman_datamodels.datamodels as rdmd\n",
    "import roman_datamodels.stnode as rdnode\n",
    "meta = {}\n",
    "# Populate common part.\n",
    "meta['reftype'] = 'FLAT'\n",
    "meta['pedigree'] = 'GROUND'\n",
    "meta['description'] = 'Flat field reference file'\n",
    "meta['author'] = 'Stephen King'\n",
    "meta['useafter'] = atime.Time('2022-01-01T11:11:11.111')\n",
    "meta['telescope'] = 'ROMAN'\n",
    "meta['origin'] = 'SSC'\n",
    "instr = {}\n",
    "instr['name'] = 'WFI'\n",
    "instr['detector'] = 'WFI01'\n",
    "instr['optical_element'] = 'GRISM'\n",
    "meta['instrument'] = instr\n",
    "# Populate Flat part.\n",
    "\n",
    "flatref = rdnode.FlatRef()\n",
    "flatref['meta'] = meta\n",
    "flatref['data'] = np.ones((100, 100), dtype=np.float32)\n",
    "flatref['dq'] = np.zeros((100, 100), dtype=np.uint32)\n",
    "flatref['err'] = np.ones((100, 100), dtype=np.float32)\n",
    "af = asdf.AsdfFile()\n",
    "af.tree = {'roman': flatref}\n",
    "af.write_to('ref_flat_field.asdf')"
   ]
  },
  {
   "cell_type": "code",
   "execution_count": 5,
   "id": "f9bb51e4",
   "metadata": {},
   "outputs": [],
   "source": [
    "dm2 = rdmd.open('ref_flat_field.asdf')"
   ]
  },
  {
   "cell_type": "code",
   "execution_count": 6,
   "id": "207c4cf8",
   "metadata": {},
   "outputs": [
    {
     "data": {
      "text/plain": [
       "roman_datamodels.datamodels.FlatRefModel"
      ]
     },
     "execution_count": 6,
     "metadata": {},
     "output_type": "execute_result"
    }
   ],
   "source": [
    "type(dm2)"
   ]
  },
  {
   "cell_type": "code",
   "execution_count": 7,
   "id": "256d9ed2",
   "metadata": {},
   "outputs": [
    {
     "data": {
      "text/plain": [
       "{'author': 'Stephen King', 'description': 'Flat field reference file', 'instrument': {'detector': 'WFI01', 'name': 'WFI', 'optical_element': 'GRISM'}, 'origin': 'SSC', 'pedigree': 'GROUND', 'reftype': 'FLAT', 'telescope': 'ROMAN', 'useafter': <Time object: scale='utc' format='isot' value=2022-01-01T11:11:11.111>}"
      ]
     },
     "execution_count": 7,
     "metadata": {},
     "output_type": "execute_result"
    }
   ],
   "source": [
    "dm2.meta"
   ]
  },
  {
   "cell_type": "code",
   "execution_count": 8,
   "id": "2311a46f",
   "metadata": {},
   "outputs": [],
   "source": [
    "dm2.meta.author = 'Bozo the Clown'"
   ]
  },
  {
   "cell_type": "code",
   "execution_count": 9,
   "id": "1d388228",
   "metadata": {},
   "outputs": [
    {
     "data": {
      "text/plain": [
       "{'author': 'Bozo the Clown', 'description': 'Flat field reference file', 'instrument': {'detector': 'WFI01', 'name': 'WFI', 'optical_element': 'GRISM'}, 'origin': 'SSC', 'pedigree': 'GROUND', 'reftype': 'FLAT', 'telescope': 'ROMAN', 'useafter': <Time object: scale='utc' format='isot' value=2022-01-01T11:11:11.111>}"
      ]
     },
     "execution_count": 9,
     "metadata": {},
     "output_type": "execute_result"
    }
   ],
   "source": [
    "dm2.meta"
   ]
  },
  {
   "cell_type": "code",
   "execution_count": 10,
   "id": "18749026",
   "metadata": {},
   "outputs": [
    {
     "ename": "NameError",
     "evalue": "name 'instrument' is not defined",
     "output_type": "error",
     "traceback": [
      "\u001b[0;31m---------------------------------------------------------------------------\u001b[0m",
      "\u001b[0;31mNameError\u001b[0m                                 Traceback (most recent call last)",
      "\u001b[0;32m<ipython-input-10-475a78c022e9>\u001b[0m in \u001b[0;36m<module>\u001b[0;34m\u001b[0m\n\u001b[0;32m----> 1\u001b[0;31m \u001b[0minstrument\u001b[0m\u001b[0;34m\u001b[0m\u001b[0;34m\u001b[0m\u001b[0m\n\u001b[0m",
      "\u001b[0;31mNameError\u001b[0m: name 'instrument' is not defined"
     ]
    }
   ],
   "source": [
    "instrument"
   ]
  },
  {
   "cell_type": "code",
   "execution_count": 11,
   "id": "af33324f",
   "metadata": {},
   "outputs": [
    {
     "ename": "ValidationError",
     "evalue": "While validating author the following error occurred:\n77 is not of type 'string'\n\nFailed validating 'type' in schema:\n    {'$schema': 'http://stsci.edu/schemas/asdf-schema/0.1.0/asdf-schema',\n     'title': 'Author of the reference file',\n     'type': 'string'}\n\nOn instance:\n    77",
     "output_type": "error",
     "traceback": [
      "\u001b[0;31m---------------------------------------------------------------------------\u001b[0m",
      "\u001b[0;31mValidationError\u001b[0m                           Traceback (most recent call last)",
      "\u001b[0;32m<ipython-input-11-ae808f0b9e13>\u001b[0m in \u001b[0;36m<module>\u001b[0;34m\u001b[0m\n\u001b[0;32m----> 1\u001b[0;31m \u001b[0mdm2\u001b[0m\u001b[0;34m.\u001b[0m\u001b[0mmeta\u001b[0m\u001b[0;34m.\u001b[0m\u001b[0mauthor\u001b[0m \u001b[0;34m=\u001b[0m \u001b[0;36m77\u001b[0m\u001b[0;34m\u001b[0m\u001b[0;34m\u001b[0m\u001b[0m\n\u001b[0m",
      "\u001b[0;32m~/miniconda3/envs/dmtag/lib/python3.8/site-packages/roman_datamodels/stnode.py\u001b[0m in \u001b[0;36m__setattr__\u001b[0;34m(self, key, value)\u001b[0m\n\u001b[1;32m    180\u001b[0m                     \u001b[0;32melse\u001b[0m\u001b[0;34m:\u001b[0m\u001b[0;34m\u001b[0m\u001b[0;34m\u001b[0m\u001b[0m\n\u001b[1;32m    181\u001b[0m                         \u001b[0mschema\u001b[0m \u001b[0;34m=\u001b[0m \u001b[0mschema\u001b[0m\u001b[0;34m.\u001b[0m\u001b[0mget\u001b[0m\u001b[0;34m(\u001b[0m\u001b[0mkey\u001b[0m\u001b[0;34m,\u001b[0m \u001b[0;32mNone\u001b[0m\u001b[0;34m)\u001b[0m\u001b[0;34m\u001b[0m\u001b[0;34m\u001b[0m\u001b[0m\n\u001b[0;32m--> 182\u001b[0;31m                     \u001b[0;32mif\u001b[0m \u001b[0mschema\u001b[0m \u001b[0;32mis\u001b[0m \u001b[0;32mNone\u001b[0m \u001b[0;32mor\u001b[0m \u001b[0m_validate\u001b[0m\u001b[0;34m(\u001b[0m\u001b[0mkey\u001b[0m\u001b[0;34m,\u001b[0m \u001b[0mvalue\u001b[0m\u001b[0;34m,\u001b[0m \u001b[0mschema\u001b[0m\u001b[0;34m,\u001b[0m \u001b[0mself\u001b[0m\u001b[0;34m.\u001b[0m\u001b[0mctx\u001b[0m\u001b[0;34m)\u001b[0m\u001b[0;34m:\u001b[0m\u001b[0;34m\u001b[0m\u001b[0;34m\u001b[0m\u001b[0m\n\u001b[0m\u001b[1;32m    183\u001b[0m                         \u001b[0mself\u001b[0m\u001b[0;34m.\u001b[0m\u001b[0m_data\u001b[0m\u001b[0;34m[\u001b[0m\u001b[0mkey\u001b[0m\u001b[0;34m]\u001b[0m \u001b[0;34m=\u001b[0m \u001b[0mvalue\u001b[0m\u001b[0;34m\u001b[0m\u001b[0;34m\u001b[0m\u001b[0m\n\u001b[1;32m    184\u001b[0m                 \u001b[0mself\u001b[0m\u001b[0;34m.\u001b[0m\u001b[0m__dict__\u001b[0m\u001b[0;34m[\u001b[0m\u001b[0;34m'_data'\u001b[0m\u001b[0;34m]\u001b[0m\u001b[0;34m[\u001b[0m\u001b[0mkey\u001b[0m\u001b[0;34m]\u001b[0m \u001b[0;34m=\u001b[0m \u001b[0mvalue\u001b[0m\u001b[0;34m\u001b[0m\u001b[0;34m\u001b[0m\u001b[0m\n",
      "\u001b[0;32m~/miniconda3/envs/dmtag/lib/python3.8/site-packages/roman_datamodels/stnode.py\u001b[0m in \u001b[0;36m_validate\u001b[0;34m(attr, instance, schema, ctx)\u001b[0m\n\u001b[1;32m     94\u001b[0m \u001b[0;32mdef\u001b[0m \u001b[0m_validate\u001b[0m\u001b[0;34m(\u001b[0m\u001b[0mattr\u001b[0m\u001b[0;34m,\u001b[0m \u001b[0minstance\u001b[0m\u001b[0;34m,\u001b[0m \u001b[0mschema\u001b[0m\u001b[0;34m,\u001b[0m \u001b[0mctx\u001b[0m\u001b[0;34m)\u001b[0m\u001b[0;34m:\u001b[0m\u001b[0;34m\u001b[0m\u001b[0;34m\u001b[0m\u001b[0m\n\u001b[1;32m     95\u001b[0m     \u001b[0mtagged_tree\u001b[0m \u001b[0;34m=\u001b[0m \u001b[0myamlutil\u001b[0m\u001b[0;34m.\u001b[0m\u001b[0mcustom_tree_to_tagged_tree\u001b[0m\u001b[0;34m(\u001b[0m\u001b[0minstance\u001b[0m\u001b[0;34m,\u001b[0m \u001b[0mctx\u001b[0m\u001b[0;34m)\u001b[0m\u001b[0;34m\u001b[0m\u001b[0;34m\u001b[0m\u001b[0m\n\u001b[0;32m---> 96\u001b[0;31m     \u001b[0;32mreturn\u001b[0m \u001b[0m_value_change\u001b[0m\u001b[0;34m(\u001b[0m\u001b[0mattr\u001b[0m\u001b[0;34m,\u001b[0m \u001b[0mtagged_tree\u001b[0m\u001b[0;34m,\u001b[0m \u001b[0mschema\u001b[0m\u001b[0;34m,\u001b[0m \u001b[0;32mFalse\u001b[0m\u001b[0;34m,\u001b[0m \u001b[0mstrict_validation\u001b[0m\u001b[0;34m,\u001b[0m \u001b[0mctx\u001b[0m\u001b[0;34m)\u001b[0m\u001b[0;34m\u001b[0m\u001b[0;34m\u001b[0m\u001b[0m\n\u001b[0m\u001b[1;32m     97\u001b[0m \u001b[0;34m\u001b[0m\u001b[0m\n\u001b[1;32m     98\u001b[0m \u001b[0;34m\u001b[0m\u001b[0m\n",
      "\u001b[0;32m~/miniconda3/envs/dmtag/lib/python3.8/site-packages/roman_datamodels/stnode.py\u001b[0m in \u001b[0;36m_value_change\u001b[0;34m(path, value, schema, pass_invalid_values, strict_validation, ctx)\u001b[0m\n\u001b[1;32m     66\u001b[0m             \u001b[0mupdate\u001b[0m \u001b[0;34m=\u001b[0m \u001b[0;32mTrue\u001b[0m\u001b[0;34m\u001b[0m\u001b[0;34m\u001b[0m\u001b[0m\n\u001b[1;32m     67\u001b[0m         \u001b[0;32mif\u001b[0m \u001b[0mstrict_validation\u001b[0m\u001b[0;34m:\u001b[0m\u001b[0;34m\u001b[0m\u001b[0;34m\u001b[0m\u001b[0m\n\u001b[0;32m---> 68\u001b[0;31m             \u001b[0;32mraise\u001b[0m \u001b[0mjsonschema\u001b[0m\u001b[0;34m.\u001b[0m\u001b[0mValidationError\u001b[0m\u001b[0;34m(\u001b[0m\u001b[0merrmsg\u001b[0m\u001b[0;34m)\u001b[0m\u001b[0;34m\u001b[0m\u001b[0;34m\u001b[0m\u001b[0m\n\u001b[0m\u001b[1;32m     69\u001b[0m         \u001b[0;32melse\u001b[0m\u001b[0;34m:\u001b[0m\u001b[0;34m\u001b[0m\u001b[0;34m\u001b[0m\u001b[0m\n\u001b[1;32m     70\u001b[0m             \u001b[0mwarnings\u001b[0m\u001b[0;34m.\u001b[0m\u001b[0mwarn\u001b[0m\u001b[0;34m(\u001b[0m\u001b[0merrmsg\u001b[0m\u001b[0;34m,\u001b[0m \u001b[0mValidationWarning\u001b[0m\u001b[0;34m)\u001b[0m\u001b[0;34m\u001b[0m\u001b[0;34m\u001b[0m\u001b[0m\n",
      "\u001b[0;31mValidationError\u001b[0m: While validating author the following error occurred:\n77 is not of type 'string'\n\nFailed validating 'type' in schema:\n    {'$schema': 'http://stsci.edu/schemas/asdf-schema/0.1.0/asdf-schema',\n     'title': 'Author of the reference file',\n     'type': 'string'}\n\nOn instance:\n    77"
     ]
    }
   ],
   "source": [
    "dm2.meta.author = 77"
   ]
  },
  {
   "cell_type": "code",
   "execution_count": null,
   "id": "6d5c9c95",
   "metadata": {},
   "outputs": [],
   "source": []
  }
 ],
 "metadata": {
  "kernelspec": {
   "display_name": "Python 3",
   "language": "python",
   "name": "python3"
  },
  "language_info": {
   "codemirror_mode": {
    "name": "ipython",
    "version": 3
   },
   "file_extension": ".py",
   "mimetype": "text/x-python",
   "name": "python",
   "nbconvert_exporter": "python",
   "pygments_lexer": "ipython3",
   "version": "3.8.5"
  }
 },
 "nbformat": 4,
 "nbformat_minor": 5
}
